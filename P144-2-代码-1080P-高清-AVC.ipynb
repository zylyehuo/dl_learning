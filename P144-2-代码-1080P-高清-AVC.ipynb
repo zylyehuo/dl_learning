{
 "cells": [
  {
   "cell_type": "code",
   "execution_count": 1,
   "id": "29df8d11-be0b-461c-b61e-84c6e169315d",
   "metadata": {},
   "outputs": [],
   "source": [
    "# 全卷积网络"
   ]
  },
  {
   "cell_type": "code",
   "execution_count": 2,
   "id": "7feab934-cfc7-464c-a31e-69ef95c7e5dd",
   "metadata": {},
   "outputs": [],
   "source": [
    "%matplotlib inline\n",
    "import torch\n",
    "import torchvision\n",
    "from torch import nn\n",
    "from torch.nn import functional as F\n",
    "from d2l import torch as d2l"
   ]
  },
  {
   "cell_type": "code",
   "execution_count": 3,
   "id": "4f0513cd-25a2-42eb-90bf-b8e776c71aff",
   "metadata": {},
   "outputs": [],
   "source": [
    "# 使用在ImageNet数据集上预训练的ResNet-18模型来提取图像特征"
   ]
  },
  {
   "cell_type": "code",
   "execution_count": 4,
   "id": "d623052d-76d2-46c0-8690-432e4ddde0ea",
   "metadata": {},
   "outputs": [
    {
     "name": "stderr",
     "output_type": "stream",
     "text": [
      "C:\\Users\\Thinkpad\\AppData\\Roaming\\Python\\Python38\\site-packages\\torchvision\\models\\_utils.py:208: UserWarning: The parameter 'pretrained' is deprecated since 0.13 and may be removed in the future, please use 'weights' instead.\n",
      "  warnings.warn(\n",
      "C:\\Users\\Thinkpad\\AppData\\Roaming\\Python\\Python38\\site-packages\\torchvision\\models\\_utils.py:223: UserWarning: Arguments other than a weight enum or `None` for 'weights' are deprecated since 0.13 and may be removed in the future. The current behavior is equivalent to passing `weights=ResNet18_Weights.IMAGENET1K_V1`. You can also use `weights=ResNet18_Weights.DEFAULT` to get the most up-to-date weights.\n",
      "  warnings.warn(msg)\n"
     ]
    },
    {
     "data": {
      "text/plain": [
       "[Sequential(\n",
       "   (0): BasicBlock(\n",
       "     (conv1): Conv2d(256, 512, kernel_size=(3, 3), stride=(2, 2), padding=(1, 1), bias=False)\n",
       "     (bn1): BatchNorm2d(512, eps=1e-05, momentum=0.1, affine=True, track_running_stats=True)\n",
       "     (relu): ReLU(inplace=True)\n",
       "     (conv2): Conv2d(512, 512, kernel_size=(3, 3), stride=(1, 1), padding=(1, 1), bias=False)\n",
       "     (bn2): BatchNorm2d(512, eps=1e-05, momentum=0.1, affine=True, track_running_stats=True)\n",
       "     (downsample): Sequential(\n",
       "       (0): Conv2d(256, 512, kernel_size=(1, 1), stride=(2, 2), bias=False)\n",
       "       (1): BatchNorm2d(512, eps=1e-05, momentum=0.1, affine=True, track_running_stats=True)\n",
       "     )\n",
       "   )\n",
       "   (1): BasicBlock(\n",
       "     (conv1): Conv2d(512, 512, kernel_size=(3, 3), stride=(1, 1), padding=(1, 1), bias=False)\n",
       "     (bn1): BatchNorm2d(512, eps=1e-05, momentum=0.1, affine=True, track_running_stats=True)\n",
       "     (relu): ReLU(inplace=True)\n",
       "     (conv2): Conv2d(512, 512, kernel_size=(3, 3), stride=(1, 1), padding=(1, 1), bias=False)\n",
       "     (bn2): BatchNorm2d(512, eps=1e-05, momentum=0.1, affine=True, track_running_stats=True)\n",
       "   )\n",
       " ),\n",
       " AdaptiveAvgPool2d(output_size=(1, 1)),\n",
       " Linear(in_features=512, out_features=1000, bias=True)]"
      ]
     },
     "execution_count": 4,
     "metadata": {},
     "output_type": "execute_result"
    }
   ],
   "source": [
    "pretrained_net = torchvision.models.resnet18(pretrained=True)\n",
    "list(pretrained_net.children())[-3:]"
   ]
  },
  {
   "cell_type": "code",
   "execution_count": 5,
   "id": "f3b5568f-e673-49f0-875f-145855894c27",
   "metadata": {},
   "outputs": [],
   "source": [
    "# 创建一个全卷积网络net。 它复制了ResNet-18中大部分的预训练层，除了最后的全局平均汇聚层和最接近输出的全连接层。"
   ]
  },
  {
   "cell_type": "code",
   "execution_count": 6,
   "id": "369e96b8-ecce-4a28-a5f1-0395f2ba7485",
   "metadata": {},
   "outputs": [],
   "source": [
    "net = nn.Sequential(*list(pretrained_net.children())[:-2])"
   ]
  },
  {
   "cell_type": "code",
   "execution_count": 7,
   "id": "149010cb-d244-4e3b-9603-d7767c3413b4",
   "metadata": {},
   "outputs": [
    {
     "data": {
      "text/plain": [
       "torch.Size([1, 512, 10, 15])"
      ]
     },
     "execution_count": 7,
     "metadata": {},
     "output_type": "execute_result"
    }
   ],
   "source": [
    "X = torch.rand(size=(1, 3, 320, 480))\n",
    "net(X).shape"
   ]
  },
  {
   "cell_type": "code",
   "execution_count": 8,
   "id": "a8cff97e-9cff-4668-a5a0-7c6da815467f",
   "metadata": {},
   "outputs": [],
   "source": [
    "# 使用 1x1 卷积层将输出通道数转换为Pascal VOC2012数据集的类数（21类）。 \n",
    "# 最后需要将特征图的高度和宽度增加32倍"
   ]
  },
  {
   "cell_type": "code",
   "execution_count": 9,
   "id": "a69e6c83-3b66-40fa-8506-e008e2f285d0",
   "metadata": {},
   "outputs": [],
   "source": [
    "num_classes = 21\n",
    "net.add_module('final_conv', nn.Conv2d(512, num_classes, kernel_size=1))\n",
    "net.add_module('transpose_conv', nn.ConvTranspose2d(num_classes, num_classes,\n",
    "                                    kernel_size=64, padding=16, stride=32))"
   ]
  },
  {
   "cell_type": "code",
   "execution_count": null,
   "id": "2c38f8ce-a21d-432e-bf18-af9d5c209c8a",
   "metadata": {},
   "outputs": [],
   "source": []
  }
 ],
 "metadata": {
  "kernelspec": {
   "display_name": "Python 3 (ipykernel)",
   "language": "python",
   "name": "python3"
  },
  "language_info": {
   "codemirror_mode": {
    "name": "ipython",
    "version": 3
   },
   "file_extension": ".py",
   "mimetype": "text/x-python",
   "name": "python",
   "nbconvert_exporter": "python",
   "pygments_lexer": "ipython3",
   "version": "3.8.20"
  }
 },
 "nbformat": 4,
 "nbformat_minor": 5
}
