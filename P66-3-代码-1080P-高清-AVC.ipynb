{
 "cells": [
  {
   "cell_type": "code",
   "execution_count": 1,
   "id": "45c70b0d-699d-4643-aa63-677e6013405d",
   "metadata": {},
   "outputs": [],
   "source": [
    "# 图像卷积"
   ]
  },
  {
   "cell_type": "code",
   "execution_count": 6,
   "id": "c76754ae-4cb1-4efd-8a82-a7ea11f76451",
   "metadata": {},
   "outputs": [],
   "source": [
    "# 互相关运算"
   ]
  },
  {
   "cell_type": "code",
   "execution_count": 7,
   "id": "307d9f21-565c-4815-86bd-f2c2c39ba2b9",
   "metadata": {},
   "outputs": [],
   "source": [
    "import torch\n",
    "from torch import nn\n",
    "from d2l import torch as d2l"
   ]
  },
  {
   "cell_type": "code",
   "execution_count": 8,
   "id": "8f238014-b1f0-479b-bfe7-6ce293cf8f85",
   "metadata": {},
   "outputs": [],
   "source": [
    "def corr2d(X, K):\n",
    "    \"\"\"计算二维互相关运算\"\"\"\n",
    "    h, w = K.shape\n",
    "    Y = torch.zeros((X.shape[0] - h + 1, X.shape[1] - w + 1))\n",
    "    for i in range(Y.shape[0]):\n",
    "        for j in range(Y.shape[1]):\n",
    "            Y[i, j] = (X[i:i + h, j:j + w] * K).sum()\n",
    "    return Y"
   ]
  },
  {
   "cell_type": "code",
   "execution_count": 9,
   "id": "c477d71f-e2ea-4511-a968-36bc6c41ee24",
   "metadata": {},
   "outputs": [],
   "source": [
    "# 验证上述二维互相关运算的输出"
   ]
  },
  {
   "cell_type": "code",
   "execution_count": 10,
   "id": "f9d7f5cc-ccde-40d3-9b3a-46a67f491972",
   "metadata": {},
   "outputs": [],
   "source": [
    "X = torch.tensor([[0.0, 1.0, 2.0], [3.0, 4.0, 5.0], [6.0, 7.0, 8.0]])\n",
    "K = torch.tensor([[0.0, 1.0], [2.0, 3.0]])"
   ]
  },
  {
   "cell_type": "code",
   "execution_count": 11,
   "id": "417fb655-b771-422f-8782-5fceab215a19",
   "metadata": {},
   "outputs": [
    {
     "data": {
      "text/plain": [
       "tensor([[19., 25.],\n",
       "        [37., 43.]])"
      ]
     },
     "execution_count": 11,
     "metadata": {},
     "output_type": "execute_result"
    }
   ],
   "source": [
    "corr2d(X, K)"
   ]
  },
  {
   "cell_type": "code",
   "execution_count": 12,
   "id": "e51f1119-39ba-4b44-8ac7-2d6e3237d63b",
   "metadata": {},
   "outputs": [],
   "source": [
    "# 实现二维卷积层"
   ]
  },
  {
   "cell_type": "code",
   "execution_count": 13,
   "id": "d8602b77-3f17-45b7-8b4e-de42537c604c",
   "metadata": {},
   "outputs": [],
   "source": [
    "class Conv2D(nn.Module):\n",
    "    def __init__(self, kernel_size):\n",
    "        super().__init__()\n",
    "        self.weight = nn.Parameter(torch.rand(kernel_size))\n",
    "        self.bias = nn.Parameter(torch.zeros(1))\n",
    "\n",
    "    def forward(self, x):\n",
    "        return corr2d(x, self.weight) + self.bias"
   ]
  },
  {
   "cell_type": "code",
   "execution_count": 14,
   "id": "980cb585-9fec-4a9d-aae0-0b4670abccba",
   "metadata": {},
   "outputs": [],
   "source": [
    "# 卷积层的一个简单应用：通过找到像素变化的位置，来检测图像中不同颜色的边缘。 \n",
    "# 首先，我们构造一个像素的黑白图像。中间四列为黑色（0），其余像素为白色（1）。"
   ]
  },
  {
   "cell_type": "code",
   "execution_count": 15,
   "id": "a5a866c5-b053-40b8-8947-887dd0368054",
   "metadata": {},
   "outputs": [
    {
     "data": {
      "text/plain": [
       "tensor([[1., 1., 0., 0., 0., 0., 1., 1.],\n",
       "        [1., 1., 0., 0., 0., 0., 1., 1.],\n",
       "        [1., 1., 0., 0., 0., 0., 1., 1.],\n",
       "        [1., 1., 0., 0., 0., 0., 1., 1.],\n",
       "        [1., 1., 0., 0., 0., 0., 1., 1.],\n",
       "        [1., 1., 0., 0., 0., 0., 1., 1.]])"
      ]
     },
     "execution_count": 15,
     "metadata": {},
     "output_type": "execute_result"
    }
   ],
   "source": [
    "X = torch.ones((6, 8))\n",
    "X[:, 2:6] = 0\n",
    "X"
   ]
  },
  {
   "cell_type": "code",
   "execution_count": 17,
   "id": "57f5eb21-5560-4c0d-be32-8b7f82502bd6",
   "metadata": {},
   "outputs": [],
   "source": [
    "# 接下来，我们构造一个高度为 1、宽度为 2 的卷积核K。\n",
    "# 当进行互相关运算时，如果水平相邻的两元素相同，则输出为零，否则输出为非零。"
   ]
  },
  {
   "cell_type": "code",
   "execution_count": 18,
   "id": "5eed89fd-cfed-4ad2-af76-1700bc48b4c7",
   "metadata": {},
   "outputs": [],
   "source": [
    "K = torch.tensor([[1.0, -1.0]])"
   ]
  },
  {
   "cell_type": "code",
   "execution_count": 19,
   "id": "8a4d6392-d626-43e0-83f2-f2bf9883ff7f",
   "metadata": {},
   "outputs": [],
   "source": [
    "# 输出Y中的1代表从白色到黑色的边缘，-1代表从黑色到白色的边缘，其他情况的输出为0。"
   ]
  },
  {
   "cell_type": "code",
   "execution_count": 20,
   "id": "9883b99e-30c1-4367-9b82-f2d82de0e6ac",
   "metadata": {},
   "outputs": [
    {
     "data": {
      "text/plain": [
       "tensor([[ 0.,  1.,  0.,  0.,  0., -1.,  0.],\n",
       "        [ 0.,  1.,  0.,  0.,  0., -1.,  0.],\n",
       "        [ 0.,  1.,  0.,  0.,  0., -1.,  0.],\n",
       "        [ 0.,  1.,  0.,  0.,  0., -1.,  0.],\n",
       "        [ 0.,  1.,  0.,  0.,  0., -1.,  0.],\n",
       "        [ 0.,  1.,  0.,  0.,  0., -1.,  0.]])"
      ]
     },
     "execution_count": 20,
     "metadata": {},
     "output_type": "execute_result"
    }
   ],
   "source": [
    "Y = corr2d(X, K)\n",
    "Y"
   ]
  },
  {
   "cell_type": "code",
   "execution_count": 21,
   "id": "0403d714-ec66-4da3-bf5a-dcc3d582b043",
   "metadata": {},
   "outputs": [],
   "source": [
    "# 学习由X生成Y的卷积核"
   ]
  },
  {
   "cell_type": "code",
   "execution_count": 22,
   "id": "1449d028-c8b9-4bd5-acf3-fe2bb1443908",
   "metadata": {},
   "outputs": [
    {
     "name": "stdout",
     "output_type": "stream",
     "text": [
      "epoch 2, loss 14.397\n",
      "epoch 4, loss 4.773\n",
      "epoch 6, loss 1.767\n",
      "epoch 8, loss 0.692\n",
      "epoch 10, loss 0.278\n"
     ]
    }
   ],
   "source": [
    "# 构造一个二维卷积层，它具有1个输出通道和形状为（1，2）的卷积核\n",
    "conv2d = nn.Conv2d(1,1, kernel_size=(1, 2), bias=False)\n",
    "\n",
    "# 这个二维卷积层使用四维输入和输出格式（批量大小、通道、高度、宽度），\n",
    "# 其中批量大小和通道数都为1\n",
    "X = X.reshape((1, 1, 6, 8))\n",
    "Y = Y.reshape((1, 1, 6, 7))\n",
    "lr = 3e-2  # 学习率\n",
    "\n",
    "for i in range(10):\n",
    "    Y_hat = conv2d(X)\n",
    "    l = (Y_hat - Y) ** 2\n",
    "    conv2d.zero_grad()\n",
    "    l.sum().backward()\n",
    "    # 迭代卷积核\n",
    "    conv2d.weight.data[:] -= lr * conv2d.weight.grad\n",
    "    if (i + 1) % 2 == 0:\n",
    "        print(f'epoch {i+1}, loss {l.sum():.3f}')"
   ]
  },
  {
   "cell_type": "code",
   "execution_count": 23,
   "id": "e7ee0ca5-8f07-4baa-a131-407a5bb0f12a",
   "metadata": {},
   "outputs": [],
   "source": [
    "# 所学的卷积核的权重张量"
   ]
  },
  {
   "cell_type": "code",
   "execution_count": 24,
   "id": "215227e5-7137-4ff0-a9af-0b143c8434a9",
   "metadata": {},
   "outputs": [
    {
     "data": {
      "text/plain": [
       "tensor([[ 0.9347, -1.0429]])"
      ]
     },
     "execution_count": 24,
     "metadata": {},
     "output_type": "execute_result"
    }
   ],
   "source": [
    "conv2d.weight.data.reshape((1, 2))"
   ]
  }
 ],
 "metadata": {
  "kernelspec": {
   "display_name": "Python 3 (ipykernel)",
   "language": "python",
   "name": "python3"
  },
  "language_info": {
   "codemirror_mode": {
    "name": "ipython",
    "version": 3
   },
   "file_extension": ".py",
   "mimetype": "text/x-python",
   "name": "python",
   "nbconvert_exporter": "python",
   "pygments_lexer": "ipython3",
   "version": "3.8.20"
  }
 },
 "nbformat": 4,
 "nbformat_minor": 5
}
