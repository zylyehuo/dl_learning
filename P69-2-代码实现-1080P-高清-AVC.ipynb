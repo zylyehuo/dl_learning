{
 "cells": [
  {
   "cell_type": "code",
   "execution_count": 1,
   "id": "e0d9f807-801e-40c2-acdc-4c78975aeb98",
   "metadata": {},
   "outputs": [],
   "source": [
    "# 填充和步幅"
   ]
  },
  {
   "cell_type": "code",
   "execution_count": 2,
   "id": "761ed255-8646-4763-9e88-383b01538ef3",
   "metadata": {},
   "outputs": [],
   "source": [
    "# 在所有侧边填充1个像素"
   ]
  },
  {
   "cell_type": "code",
   "execution_count": 3,
   "id": "b9effb1a-1a41-4766-96fd-6651c002a3e1",
   "metadata": {},
   "outputs": [],
   "source": [
    "import torch\n",
    "from torch import nn"
   ]
  },
  {
   "cell_type": "code",
   "execution_count": 4,
   "id": "f9c7581a-4c9f-48dc-bfe7-7c04669969fe",
   "metadata": {},
   "outputs": [],
   "source": [
    "# 为了方便起见，我们定义了一个计算卷积层的函数。\n",
    "# 此函数初始化卷积层权重，并对输入和输出提高和缩减相应的维数\n",
    "def comp_conv2d(conv2d, X):\n",
    "    # 这里的（1，1）表示批量大小和通道数都是1\n",
    "    X = X.reshape((1, 1) + X.shape)\n",
    "    Y = conv2d(X)\n",
    "    # 省略前两个维度：批量大小和通道\n",
    "    return Y.reshape(Y.shape[2:])"
   ]
  },
  {
   "cell_type": "code",
   "execution_count": 5,
   "id": "83c884ed-d281-483b-9b8b-f4a783360ee1",
   "metadata": {},
   "outputs": [
    {
     "data": {
      "text/plain": [
       "torch.Size([8, 8])"
      ]
     },
     "execution_count": 5,
     "metadata": {},
     "output_type": "execute_result"
    }
   ],
   "source": [
    "# 请注意，这里每边都填充了1行或1列，因此总共添加了2行或2列\n",
    "conv2d = nn.Conv2d(1, 1, kernel_size=3, padding=1)\n",
    "X = torch.rand(size=(8, 8))\n",
    "comp_conv2d(conv2d, X).shape"
   ]
  },
  {
   "cell_type": "code",
   "execution_count": 6,
   "id": "4a52534e-459e-43fe-bd2e-fa4c864c7784",
   "metadata": {},
   "outputs": [],
   "source": [
    "# 填充不同的高度和宽度"
   ]
  },
  {
   "cell_type": "code",
   "execution_count": 7,
   "id": "5a4d0f5e-0e73-4a2d-8e8f-db22f4710726",
   "metadata": {},
   "outputs": [
    {
     "data": {
      "text/plain": [
       "torch.Size([8, 8])"
      ]
     },
     "execution_count": 7,
     "metadata": {},
     "output_type": "execute_result"
    }
   ],
   "source": [
    "conv2d = nn.Conv2d(1, 1, kernel_size=(5, 3), padding=(2, 1))\n",
    "comp_conv2d(conv2d, X).shape"
   ]
  },
  {
   "cell_type": "code",
   "execution_count": 8,
   "id": "d4d1f355-54b2-4bfe-8a6e-b2883273b04a",
   "metadata": {},
   "outputs": [],
   "source": [
    "# 将高度和宽度的步幅设置为2"
   ]
  },
  {
   "cell_type": "code",
   "execution_count": 9,
   "id": "33886d7c-63f4-4fb1-a57e-315a5da06bcb",
   "metadata": {},
   "outputs": [
    {
     "data": {
      "text/plain": [
       "torch.Size([4, 4])"
      ]
     },
     "execution_count": 9,
     "metadata": {},
     "output_type": "execute_result"
    }
   ],
   "source": [
    "conv2d = nn.Conv2d(1, 1, kernel_size=3, padding=1, stride=2)\n",
    "comp_conv2d(conv2d, X).shape"
   ]
  },
  {
   "cell_type": "code",
   "execution_count": 10,
   "id": "4b9bd826-f21c-4250-8f9c-4398572921f7",
   "metadata": {},
   "outputs": [],
   "source": [
    "# 一个稍微复杂的例子"
   ]
  },
  {
   "cell_type": "code",
   "execution_count": 11,
   "id": "6f215bd0-7ddd-4890-9aea-e316d1027c5c",
   "metadata": {},
   "outputs": [
    {
     "data": {
      "text/plain": [
       "torch.Size([2, 2])"
      ]
     },
     "execution_count": 11,
     "metadata": {},
     "output_type": "execute_result"
    }
   ],
   "source": [
    "conv2d = nn.Conv2d(1, 1, kernel_size=(3, 5), padding=(0, 1), stride=(3, 4))\n",
    "comp_conv2d(conv2d, X).shape"
   ]
  }
 ],
 "metadata": {
  "kernelspec": {
   "display_name": "Python 3 (ipykernel)",
   "language": "python",
   "name": "python3"
  },
  "language_info": {
   "codemirror_mode": {
    "name": "ipython",
    "version": 3
   },
   "file_extension": ".py",
   "mimetype": "text/x-python",
   "name": "python",
   "nbconvert_exporter": "python",
   "pygments_lexer": "ipython3",
   "version": "3.8.20"
  }
 },
 "nbformat": 4,
 "nbformat_minor": 5
}
