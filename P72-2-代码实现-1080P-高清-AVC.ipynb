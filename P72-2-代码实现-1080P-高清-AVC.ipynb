{
 "cells": [
  {
   "cell_type": "code",
   "execution_count": 1,
   "id": "03e98aaf-a53a-4a30-93a7-fc10c071392c",
   "metadata": {},
   "outputs": [],
   "source": [
    "# 多输入多输出通道"
   ]
  },
  {
   "cell_type": "code",
   "execution_count": 2,
   "id": "8b26689e-05b0-434e-9210-16fa54bf3d55",
   "metadata": {},
   "outputs": [],
   "source": [
    "# 实现一下多输入通道互相关运算"
   ]
  },
  {
   "cell_type": "code",
   "execution_count": 3,
   "id": "6ee3a28d-3a4f-4692-b1be-ab715ad755e9",
   "metadata": {},
   "outputs": [],
   "source": [
    "import torch\n",
    "from d2l import torch as d2l"
   ]
  },
  {
   "cell_type": "code",
   "execution_count": 4,
   "id": "3d3e4c76-4cb7-4ce4-a34a-b12645abb665",
   "metadata": {},
   "outputs": [],
   "source": [
    "def corr2d_multi_in(X, K):\n",
    "    # 先遍历“X”和“K”的第0个维度（通道维度），再把它们加在一起\n",
    "    return sum(d2l.corr2d(x, k) for x, k in zip(X, K))"
   ]
  },
  {
   "cell_type": "code",
   "execution_count": 5,
   "id": "abebef3e-d4e2-4954-9935-b9af05f5ea96",
   "metadata": {},
   "outputs": [],
   "source": [
    "# 验证互相关运算的输出"
   ]
  },
  {
   "cell_type": "code",
   "execution_count": 6,
   "id": "06f0b241-3bb5-430e-8b49-18a3c1be7ed3",
   "metadata": {},
   "outputs": [],
   "source": [
    "X = torch.tensor([[[0.0, 1.0, 2.0], [3.0, 4.0, 5.0], [6.0, 7.0, 8.0]],\n",
    "               [[1.0, 2.0, 3.0], [4.0, 5.0, 6.0], [7.0, 8.0, 9.0]]])\n",
    "K = torch.tensor([[[0.0, 1.0], [2.0, 3.0]], [[1.0, 2.0], [3.0, 4.0]]])"
   ]
  },
  {
   "cell_type": "code",
   "execution_count": 7,
   "id": "7c5354ce-fd3b-4397-9d24-c7bf6a07dc85",
   "metadata": {},
   "outputs": [
    {
     "data": {
      "text/plain": [
       "tensor([[ 56.,  72.],\n",
       "        [104., 120.]])"
      ]
     },
     "execution_count": 7,
     "metadata": {},
     "output_type": "execute_result"
    }
   ],
   "source": [
    "corr2d_multi_in(X, K)"
   ]
  },
  {
   "cell_type": "code",
   "execution_count": 8,
   "id": "816bbc7f-0a90-4b58-b6ce-bf1035331e59",
   "metadata": {},
   "outputs": [],
   "source": [
    "# 计算多个通道的输出的互相关函数"
   ]
  },
  {
   "cell_type": "code",
   "execution_count": 9,
   "id": "0edc887c-5219-4ead-8f7d-aa4b89ef7f31",
   "metadata": {},
   "outputs": [],
   "source": [
    "def corr2d_multi_in_out(X, K):\n",
    "    # 迭代“K”的第0个维度，每次都对输入“X”执行互相关运算。\n",
    "    # 最后将所有结果都叠加在一起\n",
    "    return torch.stack([corr2d_multi_in(X, k) for k in K], 0)"
   ]
  },
  {
   "cell_type": "code",
   "execution_count": 10,
   "id": "6c2cb01b-5ae4-43f6-b2d6-abca619810f5",
   "metadata": {},
   "outputs": [
    {
     "data": {
      "text/plain": [
       "torch.Size([3, 2, 2, 2])"
      ]
     },
     "execution_count": 10,
     "metadata": {},
     "output_type": "execute_result"
    }
   ],
   "source": [
    "K = torch.stack((K, K + 1, K + 2), 0)\n",
    "K.shape"
   ]
  },
  {
   "cell_type": "code",
   "execution_count": 11,
   "id": "c78f663a-986c-4d37-ab00-24ecad57496d",
   "metadata": {},
   "outputs": [],
   "source": [
    "# 对输入张量X与卷积核张量K执行互相关运算。现在的输出包含 3 个通道，第一个通道的结果与先前输入张量X和多输入单输出通道的结果一致。"
   ]
  },
  {
   "cell_type": "code",
   "execution_count": 12,
   "id": "aa58e4fa-2fea-457c-a2de-846bba87e222",
   "metadata": {},
   "outputs": [
    {
     "data": {
      "text/plain": [
       "tensor([[[ 56.,  72.],\n",
       "         [104., 120.]],\n",
       "\n",
       "        [[ 76., 100.],\n",
       "         [148., 172.]],\n",
       "\n",
       "        [[ 96., 128.],\n",
       "         [192., 224.]]])"
      ]
     },
     "execution_count": 12,
     "metadata": {},
     "output_type": "execute_result"
    }
   ],
   "source": [
    "corr2d_multi_in_out(X, K)"
   ]
  },
  {
   "cell_type": "code",
   "execution_count": 13,
   "id": "fe91b0e4-b884-4081-8e60-a92565ab0713",
   "metadata": {},
   "outputs": [],
   "source": [
    "# 1x1 卷积"
   ]
  },
  {
   "cell_type": "code",
   "execution_count": 14,
   "id": "5a38eb80-43da-4b68-bfae-65de4356690b",
   "metadata": {},
   "outputs": [],
   "source": [
    "def corr2d_multi_in_out_1x1(X, K):\n",
    "    c_i, h, w = X.shape\n",
    "    c_o = K.shape[0]\n",
    "    X = X.reshape((c_i, h * w))\n",
    "    K = K.reshape((c_o, c_i))\n",
    "    # 全连接层中的矩阵乘法\n",
    "    Y = torch.matmul(K, X)\n",
    "    return Y.reshape((c_o, h, w))"
   ]
  },
  {
   "cell_type": "code",
   "execution_count": 15,
   "id": "4716fda9-f8ec-4f3b-abcc-0882a5d18ba4",
   "metadata": {},
   "outputs": [],
   "source": [
    "X = torch.normal(0, 1, (3, 3, 3))\n",
    "K = torch.normal(0, 1, (2, 3, 1, 1))\n",
    "\n",
    "Y1 = corr2d_multi_in_out_1x1(X, K)\n",
    "Y2 = corr2d_multi_in_out(X, K)"
   ]
  },
  {
   "cell_type": "code",
   "execution_count": 16,
   "id": "237328ea-939f-415b-a5a5-e68b5b8c98ef",
   "metadata": {},
   "outputs": [],
   "source": [
    "assert float(torch.abs(Y1 - Y2).sum()) < 1e-6"
   ]
  }
 ],
 "metadata": {
  "kernelspec": {
   "display_name": "Python 3 (ipykernel)",
   "language": "python",
   "name": "python3"
  },
  "language_info": {
   "codemirror_mode": {
    "name": "ipython",
    "version": 3
   },
   "file_extension": ".py",
   "mimetype": "text/x-python",
   "name": "python",
   "nbconvert_exporter": "python",
   "pygments_lexer": "ipython3",
   "version": "3.8.20"
  }
 },
 "nbformat": 4,
 "nbformat_minor": 5
}
