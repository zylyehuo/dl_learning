{
 "cells": [
  {
   "cell_type": "code",
   "execution_count": 1,
   "id": "ee94c424-af7e-4966-b62b-ec46f51e4efa",
   "metadata": {},
   "outputs": [],
   "source": [
    "import torch"
   ]
  },
  {
   "cell_type": "code",
   "execution_count": 3,
   "id": "1b83770f-f3a4-4112-abf1-198e0aa4a4fc",
   "metadata": {},
   "outputs": [],
   "source": [
    "x = torch.tensor([3.0])\n",
    "y = torch.tensor([2.0])"
   ]
  },
  {
   "cell_type": "code",
   "execution_count": 4,
   "id": "ac777900-cd7a-413d-a14e-cd2f1d673ec0",
   "metadata": {},
   "outputs": [
    {
     "data": {
      "text/plain": [
       "(tensor([5.]), tensor([6.]), tensor([1.5000]), tensor([9.]))"
      ]
     },
     "execution_count": 4,
     "metadata": {},
     "output_type": "execute_result"
    }
   ],
   "source": [
    "x+y,x*y,x/y,x**y"
   ]
  },
  {
   "cell_type": "code",
   "execution_count": 5,
   "id": "7eadc0d3-3b06-44df-9bf8-ab7a1a7e461d",
   "metadata": {},
   "outputs": [],
   "source": [
    "x = torch.arange(4)"
   ]
  },
  {
   "cell_type": "code",
   "execution_count": 6,
   "id": "ea844194-029f-4dbb-8576-52618b259387",
   "metadata": {},
   "outputs": [
    {
     "data": {
      "text/plain": [
       "tensor([0, 1, 2, 3])"
      ]
     },
     "execution_count": 6,
     "metadata": {},
     "output_type": "execute_result"
    }
   ],
   "source": [
    "x"
   ]
  },
  {
   "cell_type": "code",
   "execution_count": 7,
   "id": "a4005a41-7d4b-47f4-9ed1-5383569e6a8f",
   "metadata": {},
   "outputs": [
    {
     "data": {
      "text/plain": [
       "tensor(3)"
      ]
     },
     "execution_count": 7,
     "metadata": {},
     "output_type": "execute_result"
    }
   ],
   "source": [
    "x[3]"
   ]
  },
  {
   "cell_type": "code",
   "execution_count": 9,
   "id": "44eeeb1d-6f5d-43ad-88bb-c361b983e023",
   "metadata": {},
   "outputs": [
    {
     "data": {
      "text/plain": [
       "4"
      ]
     },
     "execution_count": 9,
     "metadata": {},
     "output_type": "execute_result"
    }
   ],
   "source": [
    "len(x)"
   ]
  },
  {
   "cell_type": "code",
   "execution_count": 10,
   "id": "1c28cdee-4ad4-42f5-9129-77013bb7a128",
   "metadata": {},
   "outputs": [
    {
     "data": {
      "text/plain": [
       "torch.Size([4])"
      ]
     },
     "execution_count": 10,
     "metadata": {},
     "output_type": "execute_result"
    }
   ],
   "source": [
    "x.shape"
   ]
  },
  {
   "cell_type": "code",
   "execution_count": 11,
   "id": "6198d526-1ae6-46c1-bb95-c0fabef5abc5",
   "metadata": {},
   "outputs": [],
   "source": [
    "A = torch.arange(20).reshape(5,4)"
   ]
  },
  {
   "cell_type": "code",
   "execution_count": 12,
   "id": "5027f095-dd8e-4a39-baad-b5906744d0b0",
   "metadata": {},
   "outputs": [
    {
     "data": {
      "text/plain": [
       "tensor([[ 0,  1,  2,  3],\n",
       "        [ 4,  5,  6,  7],\n",
       "        [ 8,  9, 10, 11],\n",
       "        [12, 13, 14, 15],\n",
       "        [16, 17, 18, 19]])"
      ]
     },
     "execution_count": 12,
     "metadata": {},
     "output_type": "execute_result"
    }
   ],
   "source": [
    "A"
   ]
  },
  {
   "cell_type": "code",
   "execution_count": 13,
   "id": "3c396892-37ac-43ea-9171-baab5f540863",
   "metadata": {},
   "outputs": [
    {
     "data": {
      "text/plain": [
       "tensor([[ 0,  4,  8, 12, 16],\n",
       "        [ 1,  5,  9, 13, 17],\n",
       "        [ 2,  6, 10, 14, 18],\n",
       "        [ 3,  7, 11, 15, 19]])"
      ]
     },
     "execution_count": 13,
     "metadata": {},
     "output_type": "execute_result"
    }
   ],
   "source": [
    "A.T"
   ]
  },
  {
   "cell_type": "code",
   "execution_count": 14,
   "id": "8acd71d7-509f-4612-b2dd-3434103a2347",
   "metadata": {},
   "outputs": [
    {
     "data": {
      "text/plain": [
       "tensor([[ 0,  1,  2,  3],\n",
       "        [ 4,  5,  6,  7],\n",
       "        [ 8,  9, 10, 11],\n",
       "        [12, 13, 14, 15],\n",
       "        [16, 17, 18, 19]])"
      ]
     },
     "execution_count": 14,
     "metadata": {},
     "output_type": "execute_result"
    }
   ],
   "source": [
    "A\n"
   ]
  },
  {
   "cell_type": "code",
   "execution_count": null,
   "id": "97674d5d-0b2c-4edf-8253-39f012dadcca",
   "metadata": {},
   "outputs": [],
   "source": []
  }
 ],
 "metadata": {
  "kernelspec": {
   "display_name": "Python 3 (ipykernel)",
   "language": "python",
   "name": "python3"
  },
  "language_info": {
   "codemirror_mode": {
    "name": "ipython",
    "version": 3
   },
   "file_extension": ".py",
   "mimetype": "text/x-python",
   "name": "python",
   "nbconvert_exporter": "python",
   "pygments_lexer": "ipython3",
   "version": "3.8.20"
  }
 },
 "nbformat": 4,
 "nbformat_minor": 5
}
