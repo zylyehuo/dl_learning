{
 "cells": [
  {
   "cell_type": "code",
   "execution_count": 40,
   "id": "a6a7f77c-8b32-4e9d-829f-a25570642f6f",
   "metadata": {},
   "outputs": [],
   "source": [
    "# 通过使用深度学习框架来简洁地实现线性回归模型，生成数据集\n",
    "import numpy as np\n",
    "import torch\n",
    "from torch.utils import data # 处理数据的模块\n",
    "from d2l import torch as d2l"
   ]
  },
  {
   "cell_type": "code",
   "execution_count": 41,
   "id": "a230ca23-8939-4f60-85c7-baaaca33a6d1",
   "metadata": {},
   "outputs": [],
   "source": [
    "true_w = torch.tensor([2, -3.4])\n",
    "true_b = 4.2\n",
    "features, labels = d2l.synthetic_data(true_w, true_b, 1000)"
   ]
  },
  {
   "cell_type": "code",
   "execution_count": 42,
   "id": "7a936a49-b5e3-492f-95bf-bb331941c4ae",
   "metadata": {},
   "outputs": [],
   "source": [
    "# 调用框架中现有的API来读取数据\n",
    "def load_array(data_arrays, batch_size, is_train=True):\n",
    "    \"\"\"构造一个pytorch数据迭代器。\"\"\"\n",
    "    dataset = data.TensorDataset(*data_arrays)\n",
    "    return data.DataLoader(dataset, batch_size, shuffle=is_train)"
   ]
  },
  {
   "cell_type": "code",
   "execution_count": 43,
   "id": "e75881e2-3bd6-4a57-83bf-68108f2ed3ee",
   "metadata": {},
   "outputs": [],
   "source": [
    "batch_size = 10\n",
    "data_iter = load_array((features, labels), batch_size)"
   ]
  },
  {
   "cell_type": "code",
   "execution_count": 44,
   "id": "da443894-84eb-4458-a992-934a844266ee",
   "metadata": {},
   "outputs": [
    {
     "data": {
      "text/plain": [
       "[tensor([[-1.0083e-01, -5.4301e-02],\n",
       "         [-1.9414e+00, -8.3732e-01],\n",
       "         [ 1.5110e-01, -2.6512e-01],\n",
       "         [ 3.6536e-01,  9.6262e-01],\n",
       "         [ 3.6743e-02, -7.3694e-01],\n",
       "         [ 1.6696e+00,  5.4188e-02],\n",
       "         [ 6.4628e-04,  4.2601e-01],\n",
       "         [-5.4604e-01, -1.0755e+00],\n",
       "         [-7.3980e-02,  9.6172e-01],\n",
       "         [-7.2835e-01, -8.5999e-01]]),\n",
       " tensor([[4.1684],\n",
       "         [3.1564],\n",
       "         [5.3904],\n",
       "         [1.6562],\n",
       "         [6.7875],\n",
       "         [7.3507],\n",
       "         [2.7430],\n",
       "         [6.7642],\n",
       "         [0.7707],\n",
       "         [5.6632]])]"
      ]
     },
     "execution_count": 44,
     "metadata": {},
     "output_type": "execute_result"
    }
   ],
   "source": [
    "next(iter(data_iter))"
   ]
  },
  {
   "cell_type": "code",
   "execution_count": 45,
   "id": "933610a0-3fd0-4f3b-af2c-44eb0e5721fc",
   "metadata": {},
   "outputs": [],
   "source": [
    "# 使用框架的预定义好的层\n",
    "# nn 是神经网络的缩写\n",
    "from torch import nn"
   ]
  },
  {
   "cell_type": "code",
   "execution_count": 46,
   "id": "21ca6390-8123-4bf1-a8cf-faf9084f6717",
   "metadata": {},
   "outputs": [],
   "source": [
    "net = nn.Sequential(nn.Linear(2, 1))"
   ]
  },
  {
   "cell_type": "code",
   "execution_count": 47,
   "id": "1144abf0-40e0-496a-aeb8-f112039efae4",
   "metadata": {},
   "outputs": [
    {
     "data": {
      "text/plain": [
       "tensor([0.])"
      ]
     },
     "execution_count": 47,
     "metadata": {},
     "output_type": "execute_result"
    }
   ],
   "source": [
    "# 初始化模型参数\n",
    "net[0].weight.data.normal_(0, 0.01) # 使用正态分布替换掉data中的值，均值为0，方差为0.01\n",
    "net[0].bias.data.fill_(0) # 偏差设置为0"
   ]
  },
  {
   "cell_type": "code",
   "execution_count": 48,
   "id": "66f94495-f281-426c-96a1-9acbd06665ca",
   "metadata": {},
   "outputs": [],
   "source": [
    "# 计算均方误差使用的是 MSELoss 类，也称为平方 L2范数\n",
    "loss = nn.MSELoss()"
   ]
  },
  {
   "cell_type": "code",
   "execution_count": 53,
   "id": "a5e313d1-4890-4a1d-a1ad-89ab826a2bf6",
   "metadata": {},
   "outputs": [],
   "source": [
    "# 实例化 SGD 实例\n",
    "trainer = torch.optim.SGD(net.parameters(), lr=0.03)"
   ]
  },
  {
   "cell_type": "code",
   "execution_count": 54,
   "id": "17bb72c9-330f-4103-8121-f90f0e9b94f6",
   "metadata": {},
   "outputs": [
    {
     "name": "stdout",
     "output_type": "stream",
     "text": [
      "epoch 1, loss 0.000101\n",
      "epoch 2, loss 0.000102\n",
      "epoch 3, loss 0.000102\n"
     ]
    }
   ],
   "source": [
    "# 训练过程代码与从零开始实现时所做的非常相似\n",
    "num_epochs = 3\n",
    "for epoch in range(num_epochs):\n",
    "    for X, y in data_iter:\n",
    "        l = loss(net(X),y)\n",
    "        trainer.zero_grad()\n",
    "        l.backward()\n",
    "        trainer.step()\n",
    "    l = loss(net(features), labels)\n",
    "    print(f'epoch {epoch + 1}, loss {l:f}')"
   ]
  }
 ],
 "metadata": {
  "kernelspec": {
   "display_name": "Python 3 (ipykernel)",
   "language": "python",
   "name": "python3"
  },
  "language_info": {
   "codemirror_mode": {
    "name": "ipython",
    "version": 3
   },
   "file_extension": ".py",
   "mimetype": "text/x-python",
   "name": "python",
   "nbconvert_exporter": "python",
   "pygments_lexer": "ipython3",
   "version": "3.8.20"
  }
 },
 "nbformat": 4,
 "nbformat_minor": 5
}
